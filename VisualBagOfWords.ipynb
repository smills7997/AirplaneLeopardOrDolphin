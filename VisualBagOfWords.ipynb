{
 "cells": [
  {
   "cell_type": "markdown",
   "id": "e871519b",
   "metadata": {},
   "source": [
    "# Airplane, Leopard, or Dolphin?\n",
    "\n",
    "### Using the Visual Bag of Word Technique to determine the subject of a photo"
   ]
  },
  {
   "cell_type": "code",
   "execution_count": null,
   "id": "afcf2597",
   "metadata": {},
   "outputs": [],
   "source": [
    "import numpy as np\n",
    "import matplotlib.pyplot as plt\n",
    "from sklearn.model_selection import train_test_split\n",
    "from sklearn.cluster import KMeans\n",
    "import cv2\n",
    "import os\n",
    "import random\n",
    "from scipy.spatial.distance import cdist\n",
    "from scipy import stats\n",
    "from sklearn import svm\n",
    "\n",
    "# Reads all images in given directory\n",
    "def read_images(image_dir, N=None, resize_val=None):\n",
    "    img_names = os.listdir(image_dir)\n",
    "    M = len(img_names)\n",
    "    imgs = list()\n",
    "    if (N is not None):\n",
    "        img_names = img_names[:N]\n",
    "    \n",
    "    for i, img_name in enumerate(img_names):\n",
    "        img_file = os.path.join(image_dir, img_name)\n",
    "        img = cv2.imread(img_file)\n",
    "        if img is not None:\n",
    "            img_gray = cv2.cvtColor(img, cv2.COLOR_BGR2GRAY)\n",
    "            if (resize_val is not None):\n",
    "                img_gray = cv2.resize(img_gray, (0, 0), fx=0.5, fy=0.5)\n",
    "            imgs.append(img_gray)\n",
    "        \n",
    "    return imgs\n",
    "\n",
    "airplanes = read_images('..\\\\OIDv4_ToolKit\\\\OID\\\\Dataset\\\\train\\\\Airplane', resize_val=0.5, N=600)\n",
    "dolphins = read_images('..\\\\OIDv4_ToolKit\\\\OID\\\\Dataset\\\\train\\\\Dolphin', resize_val=0.5, N=600)\n",
    "leopards = read_images('..\\\\OIDv4_ToolKit\\\\OID\\\\Dataset\\\\train\\\\Leopard', resize_val=0.5, N=600)"
   ]
  },
  {
   "cell_type": "code",
   "execution_count": null,
   "id": "bef4e66d",
   "metadata": {},
   "outputs": [],
   "source": [
    "def plot_img_and_keypoints(img):\n",
    "    fig, ((ax1, ax2)) = plt.subplots(1, 2, figsize=(14, 10))\n",
    "    ax1.imshow(img, cmap='gray')\n",
    "    sift = cv2.SIFT_create()\n",
    "    kp, des = sift.detectAndCompute(img, None)\n",
    "    img_kp = cv2.drawKeypoints(img, kp, img, flags=cv2.DRAW_MATCHES_FLAGS_DRAW_RICH_KEYPOINTS)\n",
    "    ax2.imshow(img_kp)"
   ]
  },
  {
   "cell_type": "code",
   "execution_count": null,
   "id": "4cc74e7b",
   "metadata": {},
   "outputs": [],
   "source": [
    "plot_img_and_keypoints(airplanes[4])"
   ]
  },
  {
   "cell_type": "code",
   "execution_count": null,
   "id": "f2f0e09e",
   "metadata": {},
   "outputs": [],
   "source": [
    "plot_img_and_keypoints(dolphins[0])"
   ]
  },
  {
   "cell_type": "code",
   "execution_count": null,
   "id": "39ab3ff5",
   "metadata": {},
   "outputs": [],
   "source": [
    "plot_img_and_keypoints(leopards[1])"
   ]
  },
  {
   "cell_type": "code",
   "execution_count": null,
   "id": "3ef2dceb",
   "metadata": {},
   "outputs": [],
   "source": [
    "sift = cv2.SIFT_create()\n",
    "\n",
    "def get_set_descriptors(image_set, sift, min_kps=70):\n",
    "    image_set_filtered = []\n",
    "    keypoints = []\n",
    "    descips = []\n",
    "    for img in image_set:\n",
    "        kp, des = sift.detectAndCompute(img,None)\n",
    "        if (len(kp) > min_kps):\n",
    "            image_set_filtered.append(img)\n",
    "            descips.append(des)\n",
    "            keypoints.append(kp)\n",
    "    \n",
    "    return image_set_filtered, keypoints, descips\n",
    "        \n",
    "airplanes_imgs, airplanes_kp, airplanes_des = get_set_descriptors(airplanes, sift)\n",
    "dolphins_imgs, dolphins_kp, dolphins_des = get_set_descriptors(dolphins, sift)\n",
    "leopards_imgs, leopards_kp, leopards_des = get_set_descriptors(leopards, sift)"
   ]
  },
  {
   "cell_type": "code",
   "execution_count": null,
   "id": "3bf5034a",
   "metadata": {},
   "outputs": [],
   "source": [
    "print(len(airplanes_imgs), len(dolphins_imgs), len(leopards_imgs))\n",
    "print(min(map(len, airplanes_kp)), min(map(len, dolphins_kp)), min(map(len, leopards_kp)))"
   ]
  },
  {
   "cell_type": "code",
   "execution_count": null,
   "id": "0db293a2",
   "metadata": {},
   "outputs": [],
   "source": [
    "def argsort(seq):\n",
    "    # http://stackoverflow.com/questions/3071415/efficient-method-to-calculate-the-rank-vector-of-a-list-in-python\n",
    "    return sorted(range(len(seq)), key=seq.__getitem__)[::-1]\n",
    "\n",
    "def get_top_kp_desc(keypoints, descriptors, n):\n",
    "    top_kp = []\n",
    "    top_desc = []\n",
    "    for keypoint, descriptor in zip(keypoints, descriptors):\n",
    "        kp_sorted_idx = argsort([kp.size for kp in keypoint])\n",
    "        top_kp_idx = kp_sorted_idx[:n]\n",
    "        top_kp.append([keypoint[i] for i in top_kp_idx])\n",
    "        top_desc.append(descriptor[top_kp_idx,:])\n",
    "    return top_kp, top_desc\n",
    "\n",
    "min_kp = 65\n",
    "kpa, desca = get_top_kp_desc(airplanes_kp, airplanes_des, min_kp)\n",
    "kpd, descd = get_top_kp_desc(dolphins_kp, dolphins_des, min_kp)\n",
    "kpl, descl = get_top_kp_desc(leopards_kp, leopards_des, min_kp)"
   ]
  },
  {
   "cell_type": "code",
   "execution_count": null,
   "id": "4ab06294",
   "metadata": {},
   "outputs": [],
   "source": [
    "imga=cv2.drawKeypoints(airplanes[4],kpa[4],airplanes[4],flags=cv2.DRAW_MATCHES_FLAGS_DRAW_RICH_KEYPOINTS)\n",
    "imgd=cv2.drawKeypoints(dolphins[0], kpd[0],dolphins[0],flags=cv2.DRAW_MATCHES_FLAGS_DRAW_RICH_KEYPOINTS)\n",
    "imgl=cv2.drawKeypoints(leopards[1], kpl[1],leopards[1],flags=cv2.DRAW_MATCHES_FLAGS_DRAW_RICH_KEYPOINTS)\n",
    "plt.imshow(imga)\n",
    "plt.show()\n",
    "plt.imshow(imgd)\n",
    "plt.show()\n",
    "plt.imshow(imgl)"
   ]
  },
  {
   "cell_type": "code",
   "execution_count": null,
   "id": "39a89618",
   "metadata": {},
   "outputs": [],
   "source": [
    "train_size = 400\n",
    "desca_train, desca_test, kpa_train, kpa_test, imga_train, imga_test = train_test_split(desca, kpa, airplanes_imgs, train_size=train_size)\n",
    "descd_train, descd_test, kpd_train, kpd_test, imgd_train, imgd_test = train_test_split(descd, kpd, dolphins_imgs, train_size=train_size)\n",
    "descl_train, descl_test, kpl_train, kpl_test, imgl_train, imgl_test  = train_test_split(descl, kpl, leopards_imgs, train_size=train_size)\n",
    "print(len(desca_train), len(desca_test))\n",
    "print(len(descd_train), len(descd_test))\n",
    "print(len(descl_train), len(descl_test))"
   ]
  },
  {
   "cell_type": "code",
   "execution_count": null,
   "id": "7e046536",
   "metadata": {},
   "outputs": [],
   "source": [
    "desca_train_flat = np.vstack(desca_train)\n",
    "descd_train_flat = np.vstack(descd_train)\n",
    "descl_train_flat = np.vstack(descl_train)\n",
    "desca_test_flat = np.vstack(desca_test)\n",
    "descd_test_flat = np.vstack(descd_test)\n",
    "descl_test_flat = np.vstack(descl_test)"
   ]
  },
  {
   "cell_type": "code",
   "execution_count": null,
   "id": "af1dacc7",
   "metadata": {},
   "outputs": [],
   "source": [
    "train_set = np.concatenate((desca_train_flat, descd_train_flat, descl_train_flat))\n",
    "train_keypoints = [kpa_train, kpd_train, kpl_train]\n",
    "train_images = [imga_train, imgd_train, imgl_train]\n",
    "test_set = np.concatenate((desca_test_flat, descd_test_flat, descl_test_flat))\n",
    "test_keypoints = [kpa_test, kpd_test, kpl_test]\n",
    "ttest_images = [imga_test, imgd_test, imgl_test]\n",
    "# Print shape for check\n",
    "print(train_set.shape)\n",
    "print(test_set.shape)"
   ]
  },
  {
   "cell_type": "code",
   "execution_count": null,
   "id": "51dc9c55",
   "metadata": {},
   "outputs": [],
   "source": [
    "kmeans = KMeans(n_clusters=300, max_iter=100)\n",
    "train_labels = kmeans.fit_predict(train_set)"
   ]
  },
  {
   "cell_type": "code",
   "execution_count": null,
   "id": "2131c110",
   "metadata": {},
   "outputs": [],
   "source": [
    "img_class_label = {'airplane': 0, 'dolphin': 1, 'leopard': 2}\n",
    "\n",
    "def get_img_cluster_labels(labels, img_class, img_num, img_per_class, kp_per_img):\n",
    "    img_class_num = img_class_label.get(img_class)\n",
    "    if img_class_num is None or img_num > img_per_class:\n",
    "        raise ValueError('Bad arguments')\n",
    "    start_idx = img_class_num * img_per_class + img_num * kp_per_img\n",
    "    end_idx = start_idx + kp_per_img\n",
    "    return labels[start_idx:end_idx]\n",
    "\n",
    "def get_class_imgnum_from_index(keypoint_index, img_per_class, kp_per_img):\n",
    "    image_index = keypoint_index // kp_per_img\n",
    "    class_num = image_index // img_per_class\n",
    "    image_num = image_index - class_num * img_per_class\n",
    "    kp_num = keypoint_index % kp_per_img\n",
    "    if class_num > 2 or image_num < 0 or image_num > img_per_class:\n",
    "        raise ValueError('Bad arguments; Class num or image num outside range')\n",
    "    return class_num, image_num, kp_num\n"
   ]
  },
  {
   "cell_type": "code",
   "execution_count": null,
   "id": "31016398",
   "metadata": {},
   "outputs": [],
   "source": [
    "img1_labels = get_img_cluster_labels(train_labels, 'airplane', 4, train_size, min_kp)\n",
    "img1_hist = np.unique(img1_labels, return_counts=True)\n",
    "img2_labels = get_img_cluster_labels(train_labels, 'dolphin', 0, train_size, min_kp)\n",
    "img2_hist = np.unique(img2_labels, return_counts=True)\n",
    "img3_labels = get_img_cluster_labels(train_labels, 'leopard', 1, train_size, min_kp)\n",
    "img3_hist = np.unique(img3_labels, return_counts=True)\n",
    "\n",
    "fig, ((ax1, ax2, ax3)) = plt.subplots(1, 3, figsize=(18, 6), sharey=True)\n",
    "ax1.bar(img1_hist[0], img1_hist[1], width=2)\n",
    "ax2.bar(img2_hist[0], img2_hist[1], width=2)\n",
    "ax3.bar(img3_hist[0], img3_hist[1], width=2)"
   ]
  },
  {
   "cell_type": "code",
   "execution_count": null,
   "id": "ae52a8d5",
   "metadata": {},
   "outputs": [],
   "source": [
    "img1_hist.shape"
   ]
  },
  {
   "cell_type": "code",
   "execution_count": null,
   "id": "c50480e2",
   "metadata": {},
   "outputs": [],
   "source": [
    "print(len(train_labels[train_labels == 100]))\n",
    "print(len(np.argwhere(train_labels == 100)))\n",
    "print(train_set.shape)\n",
    "d = train_set[np.nonzero(train_labels == 100)]\n",
    "print(d.shape)\n",
    "e = np.linalg.norm(d - kmeans.cluster_centers_[0], axis=1)\n",
    "print(e.shape)"
   ]
  },
  {
   "cell_type": "code",
   "execution_count": null,
   "id": "f95c33b9",
   "metadata": {},
   "outputs": [],
   "source": [
    "train_keypoints[0][12][45]"
   ]
  },
  {
   "cell_type": "code",
   "execution_count": null,
   "id": "3b446b42",
   "metadata": {},
   "outputs": [],
   "source": [
    "# Returns the image to the closest of each cluster centroid\n",
    "def get_cluster_images(labels, centroids, descriptors, keypoints, images, patch_area=30):\n",
    "    indices = np.arange(descriptors.shape[0])\n",
    "    cluster_imgs = []\n",
    "    for center_num, centroid in enumerate(centroids):\n",
    "        # Get all descriptors within cluster\n",
    "        kp_indices = np.nonzero(labels == center_num)\n",
    "        cluster_descs = descriptors[kp_indices]\n",
    "\n",
    "        # Find descriptor closest to the centroid point\n",
    "        dists = np.linalg.norm(cluster_descs - centroid, axis=1)\n",
    "        min_idx = np.argmin(dists)\n",
    "        descriptor_index = indices[kp_indices][min_idx]\n",
    "\n",
    "        # Find the class, image, and keypoints that this descriptor came from\n",
    "        i_class, i_image, i_kp = get_class_imgnum_from_index(descriptor_index, train_size, min_kp)\n",
    "        image = images[i_class][i_image]\n",
    "        keypoint = keypoints[i_class][i_image][i_kp]\n",
    "        \n",
    "        # Take a small snippet from the keypoint images around the keypoint location\n",
    "        x, y = keypoint.pt\n",
    "        image_padded = np.pad(image, patch_area, mode='constant')\n",
    "        x, y = x + patch_area, y + patch_area\n",
    "        patch = image_padded[round(y-patch_area):round(y+patch_area),round(x-patch_area):round(x+patch_area)]\n",
    "        cluster_imgs.append(patch)\n",
    "\n",
    "    return np.asarray(cluster_imgs)\n",
    "\n",
    "cluster_images = get_cluster_images(train_labels, kmeans.cluster_centers_, train_set, train_keypoints, train_images)\n"
   ]
  },
  {
   "cell_type": "code",
   "execution_count": null,
   "id": "fa6e5c56",
   "metadata": {},
   "outputs": [],
   "source": [
    "cluster_images[0].shape"
   ]
  },
  {
   "cell_type": "code",
   "execution_count": null,
   "id": "2c70fb28",
   "metadata": {},
   "outputs": [],
   "source": [
    "def plot_vocabulary(images, labels, class_name, img_num):\n",
    "    img_labels = get_img_cluster_labels(labels, class_name, img_num, train_size, min_kp)\n",
    "    cluster_nums, counts = np.unique(img_labels, return_counts=True)\n",
    "    plt.figure(figsize=(28, 18))\n",
    "    plt.bar(range(0, 2 * len(cluster_nums), 2), counts, width=0.25)\n",
    "    for i, cluster_num in enumerate(cluster_nums):\n",
    "        plt.imshow(images[cluster_num], cmap='gray', extent = (-.75 + 2*i, .75 + 2*i, -1.5, .0))\n",
    "    plt.xlim(-1, 2 * len(cluster_nums))\n",
    "    plt.ylim(-1.5, max(counts) * 1.15)\n",
    "    plt.xlabel(cluster_nums)\n",
    "    plt.show()\n",
    "    \n",
    "plot_vocabulary(cluster_images, train_labels, 'airplane', 4)"
   ]
  },
  {
   "cell_type": "code",
   "execution_count": null,
   "id": "caf4eeff",
   "metadata": {},
   "outputs": [],
   "source": [
    "plot_vocabulary(cluster_images, train_labels, 'dolphin', 0)"
   ]
  },
  {
   "cell_type": "code",
   "execution_count": null,
   "id": "d425b26e",
   "metadata": {},
   "outputs": [],
   "source": [
    "plot_vocabulary(cluster_images, train_labels, 'leopard', 1)"
   ]
  }
 ],
 "metadata": {
  "interpreter": {
   "hash": "da7bf0bbea8604a38f429c40e00421d2e49d0d7018518f8cb7ffcd35bac18abe"
  },
  "kernelspec": {
   "display_name": "Python (cmsc426)",
   "language": "python",
   "name": "python3"
  },
  "language_info": {
   "codemirror_mode": {
    "name": "ipython",
    "version": 3
   },
   "file_extension": ".py",
   "mimetype": "text/x-python",
   "name": "python",
   "nbconvert_exporter": "python",
   "pygments_lexer": "ipython3",
   "version": "3.6.12"
  }
 },
 "nbformat": 4,
 "nbformat_minor": 5
}
